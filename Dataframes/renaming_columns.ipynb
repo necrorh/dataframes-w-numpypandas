{
 "cells": [
  {
   "cell_type": "code",
   "execution_count": 1,
   "id": "a7ffb610",
   "metadata": {},
   "outputs": [],
   "source": [
    "import pandas as pd"
   ]
  },
  {
   "cell_type": "code",
   "execution_count": 3,
   "id": "78e978e7",
   "metadata": {},
   "outputs": [],
   "source": [
    "#product_df.rename(columns=('product':'product_name', 'price': 'cost')) #İSİM DEĞİŞTİRME\n",
    "#product_df.rename(columns=lambda x: x.upper()) #BÜYÜK HARFLE YAZAR\n",
    "#product_df.reindex(labels=[\"product_id\", \"product\", \"price\"], axis=1) yerlerini düzenlemek için\n"
   ]
  },
  {
   "cell_type": "code",
   "execution_count": null,
   "id": "6cdb4551",
   "metadata": {},
   "outputs": [],
   "source": []
  }
 ],
 "metadata": {
  "kernelspec": {
   "display_name": "Python 3 (ipykernel)",
   "language": "python",
   "name": "python3"
  },
  "language_info": {
   "codemirror_mode": {
    "name": "ipython",
    "version": 3
   },
   "file_extension": ".py",
   "mimetype": "text/x-python",
   "name": "python",
   "nbconvert_exporter": "python",
   "pygments_lexer": "ipython3",
   "version": "3.10.9"
  }
 },
 "nbformat": 4,
 "nbformat_minor": 5
}
