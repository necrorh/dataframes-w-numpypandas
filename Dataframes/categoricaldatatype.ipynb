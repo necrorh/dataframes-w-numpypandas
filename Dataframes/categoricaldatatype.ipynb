{
 "cells": [
  {
   "cell_type": "code",
   "execution_count": 3,
   "id": "9d772161",
   "metadata": {},
   "outputs": [],
   "source": [
    "import pandas as pd"
   ]
  },
  {
   "cell_type": "code",
   "execution_count": 2,
   "id": "099844ab",
   "metadata": {},
   "outputs": [],
   "source": [
    "#pandas categorical data dype stores text data with repeated values efficently\n",
    "#python maps each unique category to an integer to save space\n",
    "#as a rule of thumb only consider this data type when unique categories < number of rows /2"
   ]
  },
  {
   "cell_type": "code",
   "execution_count": 4,
   "id": "e97f87d9",
   "metadata": {},
   "outputs": [
    {
     "name": "stdout",
     "output_type": "stream",
     "text": [
      "<class 'pandas.core.frame.DataFrame'>\n",
      "RangeIndex: 1054944 entries, 0 to 1054943\n",
      "Data columns (total 6 columns):\n",
      " #   Column       Non-Null Count    Dtype  \n",
      "---  ------       --------------    -----  \n",
      " 0   id           1054944 non-null  int64  \n",
      " 1   date         1054944 non-null  object \n",
      " 2   store_nbr    1054944 non-null  int64  \n",
      " 3   family       1054944 non-null  object \n",
      " 4   sales        1054944 non-null  float64\n",
      " 5   onpromotion  1054944 non-null  int64  \n",
      "dtypes: float64(1), int64(3), object(2)\n",
      "memory usage: 167.8 MB\n"
     ]
    }
   ],
   "source": [
    "retail = pd.read_csv('../retail/retail.csv')\n",
    "\n",
    "retail.info(memory_usage=\"deep\")\n"
   ]
  },
  {
   "cell_type": "code",
   "execution_count": 7,
   "id": "2680ebe3",
   "metadata": {},
   "outputs": [
    {
     "data": {
      "text/plain": [
       "id                int64\n",
       "date             object\n",
       "store_nbr         int64\n",
       "family         category\n",
       "sales           float64\n",
       "onpromotion       int64\n",
       "dtype: object"
      ]
     },
     "execution_count": 7,
     "metadata": {},
     "output_type": "execute_result"
    }
   ],
   "source": [
    "retail = retail.astype({\"family\": \"category\"})\n",
    "retail.dtypes"
   ]
  },
  {
   "cell_type": "code",
   "execution_count": 8,
   "id": "e71efe48",
   "metadata": {},
   "outputs": [
    {
     "data": {
      "text/plain": [
       "AUTOMOTIVE                    31968\n",
       "HOME APPLIANCES               31968\n",
       "SCHOOL AND OFFICE SUPPLIES    31968\n",
       "PRODUCE                       31968\n",
       "PREPARED FOODS                31968\n",
       "POULTRY                       31968\n",
       "PLAYERS AND ELECTRONICS       31968\n",
       "PET SUPPLIES                  31968\n",
       "PERSONAL CARE                 31968\n",
       "MEATS                         31968\n",
       "MAGAZINES                     31968\n",
       "LIQUOR,WINE,BEER              31968\n",
       "LINGERIE                      31968\n",
       "LAWN AND GARDEN               31968\n",
       "LADIESWEAR                    31968\n",
       "HOME CARE                     31968\n",
       "HOME AND KITCHEN II           31968\n",
       "BABY CARE                     31968\n",
       "HOME AND KITCHEN I            31968\n",
       "HARDWARE                      31968\n",
       "GROCERY II                    31968\n",
       "GROCERY I                     31968\n",
       "FROZEN FOODS                  31968\n",
       "EGGS                          31968\n",
       "DELI                          31968\n",
       "DAIRY                         31968\n",
       "CLEANING                      31968\n",
       "CELEBRATION                   31968\n",
       "BREAD/BAKERY                  31968\n",
       "BOOKS                         31968\n",
       "BEVERAGES                     31968\n",
       "BEAUTY                        31968\n",
       "SEAFOOD                       31968\n",
       "Name: family, dtype: int64"
      ]
     },
     "execution_count": 8,
     "metadata": {},
     "output_type": "execute_result"
    }
   ],
   "source": [
    "retail.loc[:, \"family\"].value_counts()"
   ]
  },
  {
   "cell_type": "code",
   "execution_count": 9,
   "id": "60f4efe5",
   "metadata": {},
   "outputs": [
    {
     "name": "stdout",
     "output_type": "stream",
     "text": [
      "<class 'pandas.core.frame.DataFrame'>\n",
      "RangeIndex: 1054944 entries, 0 to 1054943\n",
      "Data columns (total 6 columns):\n",
      " #   Column       Non-Null Count    Dtype   \n",
      "---  ------       --------------    -----   \n",
      " 0   id           1054944 non-null  int64   \n",
      " 1   date         1054944 non-null  object  \n",
      " 2   store_nbr    1054944 non-null  int64   \n",
      " 3   family       1054944 non-null  category\n",
      " 4   sales        1054944 non-null  float64 \n",
      " 5   onpromotion  1054944 non-null  int64   \n",
      "dtypes: category(1), float64(1), int64(3), object(1)\n",
      "memory usage: 100.6 MB\n"
     ]
    }
   ],
   "source": [
    "retail.info(memory_usage=\"deep\") #daha az mb kullanıyor \n"
   ]
  },
  {
   "cell_type": "code",
   "execution_count": null,
   "id": "a9a69cca",
   "metadata": {},
   "outputs": [],
   "source": []
  }
 ],
 "metadata": {
  "kernelspec": {
   "display_name": "Python 3 (ipykernel)",
   "language": "python",
   "name": "python3"
  },
  "language_info": {
   "codemirror_mode": {
    "name": "ipython",
    "version": 3
   },
   "file_extension": ".py",
   "mimetype": "text/x-python",
   "name": "python",
   "nbconvert_exporter": "python",
   "pygments_lexer": "ipython3",
   "version": "3.10.9"
  }
 },
 "nbformat": 4,
 "nbformat_minor": 5
}
