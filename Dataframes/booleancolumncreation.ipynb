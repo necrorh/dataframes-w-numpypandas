{
 "cells": [
  {
   "cell_type": "code",
   "execution_count": 4,
   "id": "8a0ded5d",
   "metadata": {},
   "outputs": [],
   "source": [
    "import pandas as pd"
   ]
  },
  {
   "cell_type": "code",
   "execution_count": 3,
   "id": "0cbce9ab",
   "metadata": {},
   "outputs": [],
   "source": [
    "#can create columns with arithmetic by assigning them series operations\n",
    "#baby_yodas[\"tax_amount\"] = baby_yodas[\"sales\"] * 0.05\n",
    "#baby_yoda[\"total\"] = baby_yodas[\"sales\"] + baby_yodas[\"tax_amount\"]"
   ]
  },
  {
   "cell_type": "code",
   "execution_count": 5,
   "id": "bb2c2430",
   "metadata": {},
   "outputs": [
    {
     "ename": "NameError",
     "evalue": "name 'baby_books' is not defined",
     "output_type": "error",
     "traceback": [
      "\u001b[1;31m---------------------------------------------------------------------------\u001b[0m",
      "\u001b[1;31mNameError\u001b[0m                                 Traceback (most recent call last)",
      "Cell \u001b[1;32mIn[5], line 1\u001b[0m\n\u001b[1;32m----> 1\u001b[0m \u001b[43mbaby_books\u001b[49m\n",
      "\u001b[1;31mNameError\u001b[0m: name 'baby_books' is not defined"
     ]
    }
   ],
   "source": [
    "baby_books[\"tax_amount\"] = (\n",
    "    baby_books[\"sales\"] * 0.05 * (baby_books[\"family\"] != \"BABY CARE\")\n",
    ")\n",
    "baby_books\n",
    "#only books has the taxes"
   ]
  },
  {
   "cell_type": "code",
   "execution_count": null,
   "id": "5905286e",
   "metadata": {},
   "outputs": [],
   "source": []
  },
  {
   "cell_type": "code",
   "execution_count": null,
   "id": "c0cdfa41",
   "metadata": {},
   "outputs": [],
   "source": [
    "#can create Boolean columns by assigning them a logical test\n"
   ]
  }
 ],
 "metadata": {
  "kernelspec": {
   "display_name": "Python 3 (ipykernel)",
   "language": "python",
   "name": "python3"
  },
  "language_info": {
   "codemirror_mode": {
    "name": "ipython",
    "version": 3
   },
   "file_extension": ".py",
   "mimetype": "text/x-python",
   "name": "python",
   "nbconvert_exporter": "python",
   "pygments_lexer": "ipython3",
   "version": "3.10.9"
  }
 },
 "nbformat": 4,
 "nbformat_minor": 5
}
