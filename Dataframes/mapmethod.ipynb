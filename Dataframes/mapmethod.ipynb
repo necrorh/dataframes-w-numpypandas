{
 "cells": [
  {
   "cell_type": "code",
   "execution_count": 1,
   "id": "520bbdd9",
   "metadata": {},
   "outputs": [],
   "source": [
    "import pandas as pd\n",
    "import numpy as np"
   ]
  },
  {
   "cell_type": "code",
   "execution_count": 3,
   "id": "62c25629",
   "metadata": {},
   "outputs": [],
   "source": [
    "#.map() method maps values to a column or an entire dataframe -bir şey ya da değil"
   ]
  },
  {
   "cell_type": "code",
   "execution_count": 5,
   "id": "36ed5fc1",
   "metadata": {},
   "outputs": [
    {
     "data": {
      "text/html": [
       "<div>\n",
       "<style scoped>\n",
       "    .dataframe tbody tr th:only-of-type {\n",
       "        vertical-align: middle;\n",
       "    }\n",
       "\n",
       "    .dataframe tbody tr th {\n",
       "        vertical-align: top;\n",
       "    }\n",
       "\n",
       "    .dataframe thead th {\n",
       "        text-align: right;\n",
       "    }\n",
       "</style>\n",
       "<table border=\"1\" class=\"dataframe\">\n",
       "  <thead>\n",
       "    <tr style=\"text-align: right;\">\n",
       "      <th></th>\n",
       "      <th>id</th>\n",
       "      <th>date</th>\n",
       "      <th>store_nbr</th>\n",
       "      <th>family</th>\n",
       "      <th>sales</th>\n",
       "      <th>onpromotion</th>\n",
       "    </tr>\n",
       "  </thead>\n",
       "  <tbody>\n",
       "    <tr>\n",
       "      <th>0</th>\n",
       "      <td>1945944</td>\n",
       "      <td>2016-01-01</td>\n",
       "      <td>1</td>\n",
       "      <td>AUTOMOTIVE</td>\n",
       "      <td>0.0</td>\n",
       "      <td>0</td>\n",
       "    </tr>\n",
       "    <tr>\n",
       "      <th>1</th>\n",
       "      <td>1945945</td>\n",
       "      <td>2016-01-01</td>\n",
       "      <td>1</td>\n",
       "      <td>BABY CARE</td>\n",
       "      <td>0.0</td>\n",
       "      <td>0</td>\n",
       "    </tr>\n",
       "    <tr>\n",
       "      <th>2</th>\n",
       "      <td>1945946</td>\n",
       "      <td>2016-01-01</td>\n",
       "      <td>1</td>\n",
       "      <td>BEAUTY</td>\n",
       "      <td>0.0</td>\n",
       "      <td>0</td>\n",
       "    </tr>\n",
       "    <tr>\n",
       "      <th>3</th>\n",
       "      <td>1945947</td>\n",
       "      <td>2016-01-01</td>\n",
       "      <td>1</td>\n",
       "      <td>BEVERAGES</td>\n",
       "      <td>0.0</td>\n",
       "      <td>0</td>\n",
       "    </tr>\n",
       "    <tr>\n",
       "      <th>4</th>\n",
       "      <td>1945948</td>\n",
       "      <td>2016-01-01</td>\n",
       "      <td>1</td>\n",
       "      <td>BOOKS</td>\n",
       "      <td>0.0</td>\n",
       "      <td>0</td>\n",
       "    </tr>\n",
       "  </tbody>\n",
       "</table>\n",
       "</div>"
      ],
      "text/plain": [
       "        id        date  store_nbr      family  sales  onpromotion\n",
       "0  1945944  2016-01-01          1  AUTOMOTIVE    0.0            0\n",
       "1  1945945  2016-01-01          1   BABY CARE    0.0            0\n",
       "2  1945946  2016-01-01          1      BEAUTY    0.0            0\n",
       "3  1945947  2016-01-01          1   BEVERAGES    0.0            0\n",
       "4  1945948  2016-01-01          1       BOOKS    0.0            0"
      ]
     },
     "execution_count": 5,
     "metadata": {},
     "output_type": "execute_result"
    }
   ],
   "source": [
    "retail = pd.read_csv('../retail/retail.csv')\n",
    "retail.head()"
   ]
  },
  {
   "cell_type": "code",
   "execution_count": 7,
   "id": "eee73702",
   "metadata": {},
   "outputs": [
    {
     "data": {
      "text/plain": [
       "AUTOMOTIVE                    31968\n",
       "HOME APPLIANCES               31968\n",
       "SCHOOL AND OFFICE SUPPLIES    31968\n",
       "PRODUCE                       31968\n",
       "PREPARED FOODS                31968\n",
       "POULTRY                       31968\n",
       "PLAYERS AND ELECTRONICS       31968\n",
       "PET SUPPLIES                  31968\n",
       "PERSONAL CARE                 31968\n",
       "MEATS                         31968\n",
       "MAGAZINES                     31968\n",
       "LIQUOR,WINE,BEER              31968\n",
       "LINGERIE                      31968\n",
       "LAWN AND GARDEN               31968\n",
       "LADIESWEAR                    31968\n",
       "HOME CARE                     31968\n",
       "HOME AND KITCHEN II           31968\n",
       "BABY CARE                     31968\n",
       "HOME AND KITCHEN I            31968\n",
       "HARDWARE                      31968\n",
       "GROCERY II                    31968\n",
       "GROCERY I                     31968\n",
       "FROZEN FOODS                  31968\n",
       "EGGS                          31968\n",
       "DELI                          31968\n",
       "DAIRY                         31968\n",
       "CLEANING                      31968\n",
       "CELEBRATION                   31968\n",
       "BREAD/BAKERY                  31968\n",
       "BOOKS                         31968\n",
       "BEVERAGES                     31968\n",
       "BEAUTY                        31968\n",
       "SEAFOOD                       31968\n",
       "Name: family, dtype: int64"
      ]
     },
     "execution_count": 7,
     "metadata": {},
     "output_type": "execute_result"
    }
   ],
   "source": [
    "retail.loc[:, 'family'].value_counts()"
   ]
  },
  {
   "cell_type": "code",
   "execution_count": 8,
   "id": "8d5f2086",
   "metadata": {},
   "outputs": [],
   "source": [
    "product_category_dict = {\n",
    "    'PRODUCE' : 'Grocery',\n",
    "    'POULTRY' : 'Grocery',\n",
    "    'GROCERY I' : 'Grocery',\n",
    "    'GROCERY II' : 'Grocery',\n",
    "    'EGGS' : 'Grocery'}"
   ]
  },
  {
   "cell_type": "code",
   "execution_count": 15,
   "id": "295f5a56",
   "metadata": {},
   "outputs": [
    {
     "data": {
      "text/plain": [
       "NaN        895104\n",
       "Grocery    159840\n",
       "Name: family, dtype: int64"
      ]
     },
     "execution_count": 15,
     "metadata": {},
     "output_type": "execute_result"
    }
   ],
   "source": [
    "retail.loc[:, \"family\"].map(product_category_dict).value_counts(dropna=False)"
   ]
  },
  {
   "cell_type": "code",
   "execution_count": null,
   "id": "4a1bf3d9",
   "metadata": {},
   "outputs": [],
   "source": [
    " "
   ]
  }
 ],
 "metadata": {
  "kernelspec": {
   "display_name": "Python 3 (ipykernel)",
   "language": "python",
   "name": "python3"
  },
  "language_info": {
   "codemirror_mode": {
    "name": "ipython",
    "version": 3
   },
   "file_extension": ".py",
   "mimetype": "text/x-python",
   "name": "python",
   "nbconvert_exporter": "python",
   "pygments_lexer": "ipython3",
   "version": "3.10.9"
  }
 },
 "nbformat": 4,
 "nbformat_minor": 5
}
